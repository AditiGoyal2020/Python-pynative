{
 "cells": [
  {
   "cell_type": "markdown",
   "metadata": {},
   "source": [
    "# Python random Data generation Exercise"
   ]
  },
  {
   "cell_type": "code",
   "execution_count": 6,
   "metadata": {},
   "outputs": [
    {
     "name": "stdout",
     "output_type": "stream",
     "text": [
      "Generating 3 random integer number between 100 and 999 divisible by 5\n",
      "870,185,765,"
     ]
    }
   ],
   "source": [
    "#Generate 3 random integers between 100 and 999 which is divisible by 5\n",
    "\n",
    "import random\n",
    "\n",
    "print(\"Generating 3 random integer number between 100 and 999 divisible by 5\")\n",
    "for i in range(3):\n",
    "    print(random.randrange(100,999,5),end=\",\")"
   ]
  },
  {
   "cell_type": "code",
   "execution_count": 9,
   "metadata": {},
   "outputs": [
    {
     "name": "stdout",
     "output_type": "stream",
     "text": [
      "creating 100 random lottery tickets\n",
      "Lucky 2 lottery tickets are [6177678058, 4412200357]\n"
     ]
    }
   ],
   "source": [
    "#Random Lottery Pick. Generate 100 random lottery tickets and pick two lucky tickets from it as a winner.\n",
    "lottery_tickets_list = []\n",
    "print(\"creating 100 random lottery tickets\")\n",
    "# to get 100 ticket\n",
    "for i in range(100):\n",
    "# ticket number must be 10 digit (1000000000, 9999999999)\n",
    "    lottery_tickets_list.append(random.randrange(1000000000, 9999999999))\n",
    "    # pick 2 luck tickets\n",
    "winners = random.sample(lottery_tickets_list, 2)\n",
    "print(\"Lucky 2 lottery tickets are\", winners)"
   ]
  },
  {
   "cell_type": "code",
   "execution_count": 18,
   "metadata": {},
   "outputs": [
    {
     "name": "stdout",
     "output_type": "stream",
     "text": [
      "Generating 6 digit random OTP\n",
      "Secure random OTP is  150626\n"
     ]
    }
   ],
   "source": [
    "#Generate 6 digit random secure OTP\n",
    "import secrets\n",
    "\n",
    "secretsGenerator = secrets.SystemRandom()\n",
    "\n",
    "print(\"Generating 6 digit random OTP\")\n",
    "OTP = secretsGenerator.randrange(100000, 999999)\n",
    "\n",
    "print(\"Secure random OTP is \", OTP)\n"
   ]
  },
  {
   "cell_type": "code",
   "execution_count": 20,
   "metadata": {},
   "outputs": [
    {
     "name": "stdout",
     "output_type": "stream",
     "text": [
      "a\n"
     ]
    }
   ],
   "source": [
    "#Pick a random character from a given String\n",
    "    \n",
    "name = 'pynative'\n",
    "char=random.choice(name)\n",
    "print(char)"
   ]
  },
  {
   "cell_type": "code",
   "execution_count": 40,
   "metadata": {},
   "outputs": [
    {
     "name": "stdout",
     "output_type": "stream",
     "text": [
      "Random String is  qgeic\n"
     ]
    }
   ],
   "source": [
    "#Generate  random String of length 5\n",
    "\n",
    "import random\n",
    "import string\n",
    "\n",
    "def randomString(stringLength):\n",
    "    \"Generate a random string of 5 charcters\"\n",
    "    letters = string.ascii_lowercase\n",
    "    return ''.join(random.choice(letters) for i in range(stringLength))\n",
    "\n",
    "print (\"Random String is \", randomString(5))    "
   ]
  },
  {
   "cell_type": "code",
   "execution_count": 9,
   "metadata": {},
   "outputs": [
    {
     "name": "stdout",
     "output_type": "stream",
     "text": [
      "Password is  #$HMx/*8vJ\n"
     ]
    }
   ],
   "source": [
    "# Generate a random Password which meets the following conditions\n",
    "#Password length must be 10 characters long.\n",
    "#It must contain at least 2 upper case letters, 1 digit, and 1 special symbol.\n",
    "import random\n",
    "import string\n",
    "\n",
    "def randomPassword():\n",
    "    randomSource=string.ascii_letters+string.digits+string.punctuation\n",
    "    password=random.sample(randomSource,6)\n",
    "    password+=random.sample(string.ascii_uppercase,2)\n",
    "    password+=random.choice(string.digits)\n",
    "    password+=random.choice(string.punctuation)\n",
    "    \n",
    "    passwordList=list(password)\n",
    "    random.SystemRandom().shuffle(passwordList)\n",
    "    password = ''.join(passwordList)\n",
    "    return password\n",
    "        \n",
    "print (\"Password is \", randomPassword())\n",
    "    "
   ]
  },
  {
   "cell_type": "code",
   "execution_count": 16,
   "metadata": {},
   "outputs": [
    {
     "name": "stdout",
     "output_type": "stream",
     "text": [
      "First Random float is 0.2875686467511638\n",
      "Second Random float is 18.352051788290233\n",
      "Multiplication is 5.277474697865897\n"
     ]
    }
   ],
   "source": [
    "# Calculate multiplication of two random float numbers\n",
    "\n",
    "num1= random.uniform(0.1,1)\n",
    "print(\"First Random float is\",num1)\n",
    "num2=random.uniform(9.5, 99.5)\n",
    "print(\"Second Random float is\", num2)\n",
    "\n",
    "num3=num1*num2\n",
    "print(\"Multiplication is\",num3)"
   ]
  },
  {
   "cell_type": "code",
   "execution_count": 18,
   "metadata": {},
   "outputs": [
    {
     "name": "stdout",
     "output_type": "stream",
     "text": [
      "Random secure Hexadecimal token is  7716631db8fd6e68cbc03a691ca0a11508b19fabc3fd792894f6b6c2c14094b9d228b38c70a6481426cc39c7cc48878d7f2613edbbe91d5ffa1684bdcd832183\n",
      "Random secure URL is  eV2MSPRdebrOp-O1M-qofKQ3USEl0g5tX4lslFweLDMVZ1A1wRhMJ4YqGbgyx8ZcGR85ulxCXaJAW4VDRNKOnA\n"
     ]
    }
   ],
   "source": [
    "# Generate random secure token of 64 bytes and random URL\n",
    "import secrets\n",
    "\n",
    "print(\"Random secure Hexadecimal token is \", secrets.token_hex(64))\n",
    "print(\"Random secure URL is \", secrets.token_urlsafe(64))"
   ]
  },
  {
   "cell_type": "code",
   "execution_count": 21,
   "metadata": {},
   "outputs": [
    {
     "name": "stdout",
     "output_type": "stream",
     "text": [
      "Random selecting same number of dice\n",
      "6\n",
      "6\n",
      "2\n",
      "2\n",
      "1\n"
     ]
    }
   ],
   "source": [
    "#Roll dice in such a way that every time you get the same number\n",
    "\n",
    "Dice=[1,2,3,4,5,6]\n",
    "print(\"Random selecting same number of dice\")\n",
    "for i in range(5):\n",
    "    print(random.choice(Dice))"
   ]
  },
  {
   "cell_type": "code",
   "execution_count": 24,
   "metadata": {},
   "outputs": [],
   "source": [
    "#Generate a random date between given start and end dates\n",
    "def getRandomDate(startDate, endDate ):\n",
    "    print(\"Printing random date between\", startDate, \" and \", endDate)\n",
    "    randomGenerator = random.random()\n",
    "    dateFormat = '%m/%d/%Y'\n",
    "    \n",
    "    startTime = time.mktime(time.strptime(startDate, dateFormat))\n",
    "    endTime = time.mktime(time.strptime(endDate, dateFormat))"
   ]
  },
  {
   "cell_type": "code",
   "execution_count": null,
   "metadata": {},
   "outputs": [],
   "source": []
  },
  {
   "cell_type": "code",
   "execution_count": null,
   "metadata": {},
   "outputs": [],
   "source": []
  }
 ],
 "metadata": {
  "kernelspec": {
   "display_name": "Python 3",
   "language": "python",
   "name": "python3"
  },
  "language_info": {
   "codemirror_mode": {
    "name": "ipython",
    "version": 3
   },
   "file_extension": ".py",
   "mimetype": "text/x-python",
   "name": "python",
   "nbconvert_exporter": "python",
   "pygments_lexer": "ipython3",
   "version": "3.8.5"
  }
 },
 "nbformat": 4,
 "nbformat_minor": 4
}
