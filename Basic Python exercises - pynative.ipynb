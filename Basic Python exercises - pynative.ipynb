{
 "cells": [
  {
   "cell_type": "code",
   "execution_count": 11,
   "metadata": {},
   "outputs": [
    {
     "name": "stdout",
     "output_type": "stream",
     "text": [
      "100\n"
     ]
    }
   ],
   "source": [
    "#Given a three integer numbers return their product and  if the product is greater than 1000, then return their sum\n",
    "\n",
    "x= 20\n",
    "y= 30\n",
    "z= 50\n",
    "\n",
    "if x*y*z>1000:\n",
    "    print(x+y+z)\n",
    "else:\n",
    "    print(x*y*z)"
   ]
  },
  {
   "cell_type": "code",
   "execution_count": 31,
   "metadata": {},
   "outputs": [
    {
     "name": "stdout",
     "output_type": "stream",
     "text": [
      "current number is 1\n",
      "previous number is 0\n",
      "sum 1\n",
      "current number is 2\n",
      "previous number is 1\n",
      "sum 3\n",
      "current number is 3\n",
      "previous number is 2\n",
      "sum 5\n",
      "current number is 4\n",
      "previous number is 3\n",
      "sum 7\n",
      "current number is 5\n",
      "previous number is 4\n",
      "sum 9\n",
      "current number is 6\n",
      "previous number is 5\n",
      "sum 11\n",
      "current number is 7\n",
      "previous number is 6\n",
      "sum 13\n",
      "current number is 8\n",
      "previous number is 7\n",
      "sum 15\n",
      "current number is 9\n",
      "previous number is 8\n",
      "sum 17\n",
      "current number is 10\n",
      "previous number is 9\n",
      "sum 19\n"
     ]
    }
   ],
   "source": [
    "#Given a range of first 10 numbers, \n",
    "#Iterate from start number to the end number and print the sum of the current number and previous number\n",
    "\n",
    "\n",
    "\n",
    "for i in range(10):\n",
    "    print(\"current number is {}\".format(i+1))\n",
    "    print(\"previous number is {}\".format(i))\n",
    "    print(\"sum {}\".format(i+1+i))"
   ]
  },
  {
   "cell_type": "code",
   "execution_count": 13,
   "metadata": {},
   "outputs": [
    {
     "name": "stdout",
     "output_type": "stream",
     "text": [
      "p\n",
      "n\n",
      "t\n",
      "v\n"
     ]
    }
   ],
   "source": [
    "#Given a string, display only those characters which are present at an even index number.\n",
    "\n",
    "str = \"pynative\"\n",
    "i=0\n",
    "\n",
    "len(str)\n",
    "\n",
    "while i< len(str):\n",
    "    print(str[i])\n",
    "    i=i+2\n",
    "    \n"
   ]
  },
  {
   "cell_type": "code",
   "execution_count": 1,
   "metadata": {},
   "outputs": [
    {
     "name": "stdout",
     "output_type": "stream",
     "text": [
      "please enter the number4\n",
      "ive\n"
     ]
    }
   ],
   "source": [
    "#Given a string and an integer number n, remove characters from a string starting from zero up to n and return a new string\n",
    "\n",
    "str = \"pynative\"\n",
    "n=int(input(\"please enter the number\"))\n",
    "\n",
    "print(str[n+1:])   \n"
   ]
  },
  {
   "cell_type": "code",
   "execution_count": 22,
   "metadata": {},
   "outputs": [
    {
     "name": "stdout",
     "output_type": "stream",
     "text": [
      "false\n"
     ]
    }
   ],
   "source": [
    "#Given a list of numbers, return True if first and last number of a list is same\n",
    "\n",
    "list= [10, 20, 30, 40, 50]\n",
    "\n",
    "if (list[0] == list[-1]):\n",
    "     print(\"true\")\n",
    "else:\n",
    "    print(\"false\")"
   ]
  },
  {
   "cell_type": "code",
   "execution_count": 23,
   "metadata": {},
   "outputs": [
    {
     "data": {
      "text/plain": [
       "50"
      ]
     },
     "execution_count": 23,
     "metadata": {},
     "output_type": "execute_result"
    }
   ],
   "source": [
    "list[-1]"
   ]
  },
  {
   "cell_type": "code",
   "execution_count": 4,
   "metadata": {},
   "outputs": [
    {
     "name": "stdout",
     "output_type": "stream",
     "text": [
      "10\n",
      "20\n",
      "55\n"
     ]
    }
   ],
   "source": [
    "# Given a list of numbers, Iterate it and print only those numbers which are divisible of 5\n",
    "\n",
    "list=[10, 20, 33, 46, 55]\n",
    "\n",
    "for i in list:\n",
    "    if(i%5==0):\n",
    "        print(i)\n",
    "        "
   ]
  },
  {
   "cell_type": "code",
   "execution_count": 20,
   "metadata": {},
   "outputs": [
    {
     "name": "stdout",
     "output_type": "stream",
     "text": [
      "2\n"
     ]
    }
   ],
   "source": [
    "# Return the total count of sub-string “Emma” appears in the given string\n",
    "\n",
    "str=\"Emma is a good developer. Emma is a writer\"\n",
    " \n",
    "output=str.count(\"Emma\")\n",
    "print(output)\n",
    "\n"
   ]
  },
  {
   "cell_type": "code",
   "execution_count": null,
   "metadata": {},
   "outputs": [],
   "source": [
    "# Print the following pattern\n",
    "1 \n",
    "2 2 \n",
    "3 3 3 \n",
    "4 4 4 4 \n",
    "5 5 5 5 5\n",
    "\n",
    "\n",
    "for i in range(5):\n",
    "    print(i)    "
   ]
  },
  {
   "cell_type": "code",
   "execution_count": 15,
   "metadata": {},
   "outputs": [
    {
     "name": "stdout",
     "output_type": "stream",
     "text": [
      "please enter the number121\n",
      "\n",
      " Reverse of entered number is = 1\n",
      "\n",
      " Reverse of entered number is = 12\n",
      "\n",
      " Reverse of entered number is = 121\n"
     ]
    }
   ],
   "source": [
    "#Reverse a given number and return true if it is the same as the original number\n",
    "\n",
    "Num = int(input(\"please enter the number\"))\n",
    "\n",
    "Reverse=0\n",
    "while(Num>0):\n",
    "    Reminder=Num%10\n",
    "    Reverse=(Reverse*10)+Reminder\n",
    "    Num=Num//10\n",
    "    print(\"\\n Reverse of entered number is = %d\"%Reverse)\n",
    "\n"
   ]
  },
  {
   "cell_type": "code",
   "execution_count": 11,
   "metadata": {},
   "outputs": [
    {
     "data": {
      "text/plain": [
       "'1'"
      ]
     },
     "execution_count": 11,
     "metadata": {},
     "output_type": "execute_result"
    }
   ],
   "source": []
  },
  {
   "cell_type": "code",
   "execution_count": 9,
   "metadata": {},
   "outputs": [
    {
     "name": "stdout",
     "output_type": "stream",
     "text": [
      "23\n",
      "11\n",
      "17\n",
      "24\n",
      "36\n",
      "12\n"
     ]
    }
   ],
   "source": [
    "# Given a two list of numbers\n",
    "#create a new list such that new list should contain only odd numbers from the first list and even numbers from the second list\n",
    "\n",
    "\n",
    "First_List =[10, 20, 23, 11, 17]\n",
    "Second_List=[13, 43, 24, 36, 12]\n",
    "\n",
    "for i in First_List:\n",
    "    if i% 2!=0:\n",
    "        print(i)\n",
    "for i in Second_List:\n",
    "    if i% 2==0:\n",
    "        print(i)\n",
    "    First_List.append(Second_List)\n",
    "\n"
   ]
  },
  {
   "cell_type": "code",
   "execution_count": 23,
   "metadata": {},
   "outputs": [
    {
     "name": "stdout",
     "output_type": "stream",
     "text": [
      "please enter the digit7536\n"
     ]
    },
    {
     "ename": "IndexError",
     "evalue": "Replacement index 1 out of range for positional args tuple",
     "output_type": "error",
     "traceback": [
      "\u001b[1;31m---------------------------------------------------------------------------\u001b[0m",
      "\u001b[1;31mIndexError\u001b[0m                                Traceback (most recent call last)",
      "\u001b[1;32m<ipython-input-23-5dcce4578dec>\u001b[0m in \u001b[0;36m<module>\u001b[1;34m\u001b[0m\n\u001b[0;32m      4\u001b[0m \u001b[1;33m\u001b[0m\u001b[0m\n\u001b[0;32m      5\u001b[0m \u001b[1;33m\u001b[0m\u001b[0m\n\u001b[1;32m----> 6\u001b[1;33m \u001b[0mprint\u001b[0m\u001b[1;33m(\u001b[0m\u001b[1;34m\"{}{}{}{}\"\u001b[0m\u001b[1;33m.\u001b[0m\u001b[0mformat\u001b[0m\u001b[1;33m(\u001b[0m\u001b[0mDigit\u001b[0m\u001b[1;33m[\u001b[0m\u001b[1;33m-\u001b[0m\u001b[1;36m1\u001b[0m\u001b[1;33m:\u001b[0m\u001b[1;36m0\u001b[0m\u001b[1;33m]\u001b[0m\u001b[1;33m)\u001b[0m\u001b[1;33m)\u001b[0m\u001b[1;33m\u001b[0m\u001b[1;33m\u001b[0m\u001b[0m\n\u001b[0m",
      "\u001b[1;31mIndexError\u001b[0m: Replacement index 1 out of range for positional args tuple"
     ]
    }
   ],
   "source": [
    "# Write a code to extract each digit from an integer, in the reverse order\n",
    "\n",
    "Digit= input(\"please enter the digit\")\n",
    "\n",
    "\n",
    "print(\"{}{}{}{}\".format(Digit[-1:0]))\n"
   ]
  },
  {
   "cell_type": "code",
   "execution_count": 2,
   "metadata": {},
   "outputs": [
    {
     "name": "stdout",
     "output_type": "stream",
     "text": [
      "please enter your income 56000\n",
      "The tax liabitity is equal to 8200.0\n"
     ]
    }
   ],
   "source": [
    "# Calculate income tax for the given income by adhering to the below rules\n",
    "\n",
    "Income= int(input (\"please enter your income \"))\n",
    "\n",
    "x=Income-10000\n",
    "y=Income-20000\n",
    "\n",
    "if Income>20000:\n",
    "    print(\"The tax liabitity is equal to {}\".format(y*20/100+1000))\n",
    "elif Income>10000<20000:\n",
    "        print(\"The tax liabitity is equal to {}\".format(Income* 0.10))\n",
    "else:\n",
    "    print(\"The tax liabitity is equal to 0\") "
   ]
  },
  {
   "cell_type": "code",
   "execution_count": 6,
   "metadata": {},
   "outputs": [
    {
     "ename": "SyntaxError",
     "evalue": "invalid syntax (<ipython-input-6-ddb0a865e0d4>, line 4)",
     "output_type": "error",
     "traceback": [
      "\u001b[1;36m  File \u001b[1;32m\"<ipython-input-6-ddb0a865e0d4>\"\u001b[1;36m, line \u001b[1;32m4\u001b[0m\n\u001b[1;33m    For i in range(10):\u001b[0m\n\u001b[1;37m        ^\u001b[0m\n\u001b[1;31mSyntaxError\u001b[0m\u001b[1;31m:\u001b[0m invalid syntax\n"
     ]
    }
   ],
   "source": [
    "# Print multiplication table form 1 to 10\n",
    "i=0\n",
    "\n",
    "For i in range(10):\n",
    "    for j in range(10):\n",
    "        print(i*j, end =\"\")\n",
    "    print(\"\\n\\n\")\n"
   ]
  },
  {
   "cell_type": "code",
   "execution_count": null,
   "metadata": {},
   "outputs": [],
   "source": [
    "# Print downward Half-Pyramid Pattern with Star (asterisk)\n",
    "* * * * *  \n",
    "* * * *  \n",
    "* * *  \n",
    "* *  \n",
    "*"
   ]
  },
  {
   "cell_type": "code",
   "execution_count": null,
   "metadata": {},
   "outputs": [],
   "source": [
    "# Write a function called exponent(base, exp) that returns an int value of base raises to the power of exp.\n"
   ]
  }
 ],
 "metadata": {
  "kernelspec": {
   "display_name": "Python 3",
   "language": "python",
   "name": "python3"
  },
  "language_info": {
   "codemirror_mode": {
    "name": "ipython",
    "version": 3
   },
   "file_extension": ".py",
   "mimetype": "text/x-python",
   "name": "python",
   "nbconvert_exporter": "python",
   "pygments_lexer": "ipython3",
   "version": "3.8.5"
  }
 },
 "nbformat": 4,
 "nbformat_minor": 4
}
