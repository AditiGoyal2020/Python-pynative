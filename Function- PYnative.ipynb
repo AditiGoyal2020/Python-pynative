{
 "cells": [
  {
   "cell_type": "code",
   "execution_count": 9,
   "metadata": {},
   "outputs": [
    {
     "name": "stdout",
     "output_type": "stream",
     "text": [
      "Aditi 27\n"
     ]
    }
   ],
   "source": [
    "#Create a function that can accept two arguments name and \n",
    "#age and print its value\n",
    "\n",
    "name= \"Aditi\"\n",
    "age= \"27\"\n",
    "\n",
    "print(name,age)"
   ]
  },
  {
   "cell_type": "code",
   "execution_count": 41,
   "metadata": {},
   "outputs": [
    {
     "name": "stdout",
     "output_type": "stream",
     "text": [
      "20\n",
      "40\n",
      "60\n"
     ]
    }
   ],
   "source": [
    "#Write a function func1() such that \n",
    "#it can accept a variable length of  argument and \n",
    "#print all arguments value\n",
    "\n",
    "\n",
    "def func1(*arg):\n",
    "    for i in arg:\n",
    "        print(i)\n",
    "func1(20, 40, 60)\n",
    "func1=(80,100)"
   ]
  },
  {
   "cell_type": "code",
   "execution_count": 42,
   "metadata": {},
   "outputs": [],
   "source": [
    "def func1(*arg):\n",
    "    for i in arg:\n",
    "        print(i)\n",
    "\n",
    "func1=(80,100)"
   ]
  },
  {
   "cell_type": "code",
   "execution_count": 43,
   "metadata": {},
   "outputs": [
    {
     "name": "stdout",
     "output_type": "stream",
     "text": [
      "(25, -5)\n"
     ]
    }
   ],
   "source": [
    "# Write a function calculation() such that it can accept two\n",
    "#variables and calculate the addition and \n",
    "#subtraction of it. And also it must return both addition and #\n",
    "#subtraction in a single return call\n",
    "\n",
    "def calculation(a,b):\n",
    "    return a+b, a-b\n",
    "\n",
    "res=calculation(10,15)\n",
    "print(res)"
   ]
  },
  {
   "cell_type": "code",
   "execution_count": null,
   "metadata": {},
   "outputs": [],
   "source": [
    "#Create a function showEmployee() in such a way that\n",
    "#it should accept employee name, and \n",
    "#it’s salary and display both, and \n",
    "#if the salary is missing in function call \n",
    "#it should show it as 9000"
   ]
  }
 ],
 "metadata": {
  "kernelspec": {
   "display_name": "Python 3",
   "language": "python",
   "name": "python3"
  },
  "language_info": {
   "codemirror_mode": {
    "name": "ipython",
    "version": 3
   },
   "file_extension": ".py",
   "mimetype": "text/x-python",
   "name": "python",
   "nbconvert_exporter": "python",
   "pygments_lexer": "ipython3",
   "version": "3.8.5"
  }
 },
 "nbformat": 4,
 "nbformat_minor": 4
}
