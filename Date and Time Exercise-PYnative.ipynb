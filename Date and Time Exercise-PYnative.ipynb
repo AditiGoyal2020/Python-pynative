{
 "cells": [
  {
   "cell_type": "markdown",
   "metadata": {},
   "source": [
    "# Date and Time Exercise"
   ]
  },
  {
   "cell_type": "code",
   "execution_count": 2,
   "metadata": {},
   "outputs": [
    {
     "name": "stdout",
     "output_type": "stream",
     "text": [
      "2020-12-22 18:32:16.876536\n"
     ]
    }
   ],
   "source": [
    "#Print current time in Python\n",
    "import datetime\n",
    "print(datetime.datetime.now())"
   ]
  },
  {
   "cell_type": "code",
   "execution_count": 6,
   "metadata": {},
   "outputs": [
    {
     "name": "stdout",
     "output_type": "stream",
     "text": [
      "Feb 25 2020  4:20PM\n"
     ]
    }
   ],
   "source": [
    "#Python convert string into a datetime object\n",
    "from datetime import datetime\n",
    "\n",
    "date_string = \"Feb 25 2020  4:20PM\"\n",
    "print(date_string)"
   ]
  },
  {
   "cell_type": "code",
   "execution_count": 22,
   "metadata": {},
   "outputs": [
    {
     "name": "stdout",
     "output_type": "stream",
     "text": [
      "2020-02-25 00:00:00\n",
      "2020-02-18 00:00:00\n"
     ]
    }
   ],
   "source": [
    "# Subtract a week ( 7 days)  from a given date in Python\n",
    "from datetime import datetime, timedelta\n",
    "\n",
    "given_date= datetime(2020,2,25)\n",
    "print(given_date)\n",
    "\n",
    "days_to_subtract = 7\n",
    "new_date= given_date - timedelta(days=days_to_subtract)\n",
    "print(new_date)"
   ]
  },
  {
   "cell_type": "code",
   "execution_count": 40,
   "metadata": {},
   "outputs": [
    {
     "name": "stdout",
     "output_type": "stream",
     "text": [
      "Given date is\n",
      "Tuesday 25 February 2020\n"
     ]
    }
   ],
   "source": [
    "#Print a date in a the format format\n",
    "\n",
    "given_date = datetime(2020, 2, 25)\n",
    "print(\"Given date is\")\n",
    "print(given_date.strftime('%A %d %B %Y'))"
   ]
  },
  {
   "cell_type": "code",
   "execution_count": 30,
   "metadata": {},
   "outputs": [
    {
     "name": "stdout",
     "output_type": "stream",
     "text": [
      "Sunday\n"
     ]
    }
   ],
   "source": [
    "# Find the day of week of a given date?\n",
    "given_date = datetime(2020, 7, 26)\n",
    "\n",
    "print(given_date.strftime('%A'))"
   ]
  },
  {
   "cell_type": "code",
   "execution_count": 33,
   "metadata": {},
   "outputs": [
    {
     "name": "stdout",
     "output_type": "stream",
     "text": [
      "2020-03-22 10:00:00\n",
      "2020-03-29 22:00:00\n"
     ]
    }
   ],
   "source": [
    "#Add week ( 7 days) and 12 hours to a given date\n",
    "given_date = datetime(2020, 3, 22, 10, 0, 0)\n",
    "print(given_date)\n",
    "\n",
    "days_to_add= 7\n",
    "New_date=given_date+timedelta(days=days_to_add,hours=12)\n",
    "print(New_date)"
   ]
  },
  {
   "cell_type": "code",
   "execution_count": 36,
   "metadata": {},
   "outputs": [
    {
     "name": "stdout",
     "output_type": "stream",
     "text": [
      "1608646356431\n"
     ]
    }
   ],
   "source": [
    "# Print current time in milliseconds\n",
    "import time\n",
    "\n",
    "milliseconds = int(round(time.time() * 1000))\n",
    "print(milliseconds)"
   ]
  },
  {
   "cell_type": "code",
   "execution_count": 41,
   "metadata": {},
   "outputs": [
    {
     "name": "stdout",
     "output_type": "stream",
     "text": [
      "Tuesday,2020-02-25-00:00:00\n"
     ]
    }
   ],
   "source": [
    "#Convert following datetime instance into string format\n",
    "given_date = datetime(2020, 2, 25)\n",
    "\n",
    "string_datetime=given_date.strftime(\"%A,%Y-%m-%d-%H:%M:%S\")\n",
    "print(string_datetime)"
   ]
  },
  {
   "cell_type": "code",
   "execution_count": 50,
   "metadata": {},
   "outputs": [],
   "source": [
    "#Calculate the date 4 months from the current date\n",
    "#2020-02-25\n",
    "\n",
    "from dateutil.relativedelta import relativedelta\n",
    "given_date = datetime(2020, 2, 25).date()\n",
    "Months_to_add= 4\n",
    "\n",
    "New_Date= given_date+relativedelta(months=+Months_to_add)"
   ]
  },
  {
   "cell_type": "code",
   "execution_count": 51,
   "metadata": {},
   "outputs": [
    {
     "name": "stdout",
     "output_type": "stream",
     "text": [
      "date_2 is greater\n",
      "Difference is 205 days\n"
     ]
    }
   ],
   "source": [
    "#Calculate number of days between two given dates\n",
    "# 2020-02-25\n",
    "date_1 = datetime(2020, 2, 25)\n",
    "\n",
    "# 2020-09-17\n",
    "date_2 = datetime(2020, 9, 17)\n",
    "\n",
    "if date_1 > date_2:\n",
    "    print(\"date_1 is greater\")\n",
    "    delta = date_1 - date_2\n",
    "else:\n",
    "    print(\"date_2 is greater\")\n",
    "    delta = date_2 - date_1\n",
    "print(\"Difference is\", delta.days, \"days\")"
   ]
  }
 ],
 "metadata": {
  "kernelspec": {
   "display_name": "Python 3",
   "language": "python",
   "name": "python3"
  },
  "language_info": {
   "codemirror_mode": {
    "name": "ipython",
    "version": 3
   },
   "file_extension": ".py",
   "mimetype": "text/x-python",
   "name": "python",
   "nbconvert_exporter": "python",
   "pygments_lexer": "ipython3",
   "version": "3.8.5"
  }
 },
 "nbformat": 4,
 "nbformat_minor": 4
}
