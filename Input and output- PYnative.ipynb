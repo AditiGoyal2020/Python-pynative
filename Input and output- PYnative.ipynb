{
 "cells": [
  {
   "cell_type": "code",
   "execution_count": 1,
   "metadata": {},
   "outputs": [
    {
     "name": "stdout",
     "output_type": "stream",
     "text": [
      "Enter first number89\n",
      "Enter second number98\n",
      "8722\n"
     ]
    }
   ],
   "source": [
    "#Accept two numbers from the user and calculate multiplication\n",
    "\n",
    "num1= int(input(\"Enter first number\"))\n",
    "num2= int(input(\"Enter second number\"))\n",
    "\n",
    "num3=num1*num2\n",
    "print(num3)"
   ]
  },
  {
   "cell_type": "code",
   "execution_count": 2,
   "metadata": {},
   "outputs": [
    {
     "name": "stdout",
     "output_type": "stream",
     "text": [
      "My**Name**Is**James\n"
     ]
    }
   ],
   "source": [
    "# Display “My Name Is James” as “My**Name**Is**James” \n",
    "#using output formatting of a print() function\n",
    "\n",
    "print(\"My\",\"Name\",\"Is\",\"James\", sep=\"**\")"
   ]
  },
  {
   "cell_type": "code",
   "execution_count": 3,
   "metadata": {},
   "outputs": [
    {
     "name": "stdout",
     "output_type": "stream",
     "text": [
      "10,\n"
     ]
    }
   ],
   "source": [
    "#Convert decimal number to octal using print() \n",
    "#output formatting\n",
    "\n",
    "print(\"%o,\"%(8))"
   ]
  },
  {
   "cell_type": "code",
   "execution_count": 4,
   "metadata": {},
   "outputs": [
    {
     "name": "stdout",
     "output_type": "stream",
     "text": [
      "458.54\n"
     ]
    }
   ],
   "source": [
    "#Display float number with 2 decimal places using print()\n",
    "\n",
    "print('%.2f'% 458.541315)"
   ]
  },
  {
   "cell_type": "code",
   "execution_count": 19,
   "metadata": {},
   "outputs": [
    {
     "name": "stdout",
     "output_type": "stream",
     "text": [
      "56465\n",
      "5445\n",
      "5454.54\n",
      "241.5465\n",
      "5454.7547\n",
      "[56465.0, 5445.0, 5454.54, 241.5465, 5454.7547]\n"
     ]
    }
   ],
   "source": [
    "# Accept list of 5 float numbers as a input from user\n",
    "n=5\n",
    "list=[]\n",
    "\n",
    "for i in range(0,n):\n",
    "    item=float(input())\n",
    "    list.append(item)\n",
    "\n",
    "print(list) "
   ]
  },
  {
   "cell_type": "code",
   "execution_count": null,
   "metadata": {},
   "outputs": [],
   "source": [
    "#write all file content into new file by skiping line 5 \n",
    "#from following file\n"
   ]
  },
  {
   "cell_type": "code",
   "execution_count": 24,
   "metadata": {},
   "outputs": [
    {
     "name": "stdout",
     "output_type": "stream",
     "text": [
      "i have 1000 dollars so i can buy 3 footballs for 450 dollars.\n"
     ]
    }
   ],
   "source": [
    "#You have the following data.\n",
    "totalMoney = 1000\n",
    "quantity = 3\n",
    "price = 450\n",
    "\n",
    "print(\"i have {} dollars so i can buy {} footballs for {} dollars.\".format(totalMoney,quantity, price))"
   ]
  },
  {
   "cell_type": "code",
   "execution_count": 26,
   "metadata": {},
   "outputs": [
    {
     "ename": "FileNotFoundError",
     "evalue": "[WinError 2] The system cannot find the file specified: 'test.txt'",
     "output_type": "error",
     "traceback": [
      "\u001b[1;31m---------------------------------------------------------------------------\u001b[0m",
      "\u001b[1;31mFileNotFoundError\u001b[0m                         Traceback (most recent call last)",
      "\u001b[1;32m<ipython-input-26-af02c320ffba>\u001b[0m in \u001b[0;36m<module>\u001b[1;34m\u001b[0m\n\u001b[0;32m      2\u001b[0m \u001b[1;32mimport\u001b[0m \u001b[0mos\u001b[0m\u001b[1;33m\u001b[0m\u001b[1;33m\u001b[0m\u001b[0m\n\u001b[0;32m      3\u001b[0m \u001b[1;33m\u001b[0m\u001b[0m\n\u001b[1;32m----> 4\u001b[1;33m \u001b[0mprint\u001b[0m\u001b[1;33m(\u001b[0m\u001b[0mos\u001b[0m\u001b[1;33m.\u001b[0m\u001b[0mstat\u001b[0m\u001b[1;33m(\u001b[0m\u001b[1;34m\"test.txt\"\u001b[0m\u001b[1;33m)\u001b[0m\u001b[1;33m.\u001b[0m\u001b[0mst_size\u001b[0m \u001b[1;33m==\u001b[0m \u001b[1;36m0\u001b[0m\u001b[1;33m)\u001b[0m\u001b[1;33m\u001b[0m\u001b[1;33m\u001b[0m\u001b[0m\n\u001b[0m",
      "\u001b[1;31mFileNotFoundError\u001b[0m: [WinError 2] The system cannot find the file specified: 'test.txt'"
     ]
    }
   ],
   "source": [
    "#How to check file is empty or not\n",
    "\n",
    "import os\n",
    "\n",
    "print(os.stat(\"\").st_size == 0)\n",
    "print(os.stat(\"\").st_mode ==)\n",
    "print(os.stat(\"\").st_ino == )\n",
    "print(os.stat(\"\").st_dev ==)\n",
    "print(os.stat(\"\").st_nlink ==)\n",
    "print(os.stat(\"\").st_uid == )\n",
    "print(os.stat(\"\").st_gid == 0)\n",
    "print(os.stat(\"\").st_atime == 0)\n",
    "\n",
    "alternatively,\n",
    " Status = print(os.stat(\"\")"
   ]
  },
  {
   "cell_type": "code",
   "execution_count": 29,
   "metadata": {},
   "outputs": [
    {
     "ename": "SyntaxError",
     "evalue": "invalid syntax (<ipython-input-29-d7ad9f9f4e22>, line 2)",
     "output_type": "error",
     "traceback": [
      "\u001b[1;36m  File \u001b[1;32m\"<ipython-input-29-d7ad9f9f4e22>\"\u001b[1;36m, line \u001b[1;32m2\u001b[0m\n\u001b[1;33m    test.txt file:\u001b[0m\n\u001b[1;37m             ^\u001b[0m\n\u001b[1;31mSyntaxError\u001b[0m\u001b[1;31m:\u001b[0m invalid syntax\n"
     ]
    }
   ],
   "source": [
    "#Read line number 4 from the following file\n",
    "\n",
    "test.txt file:\n",
    "line1\n",
    "line2\n",
    "line3\n",
    "line4\n",
    "line5\n",
    "line6\n",
    "line7\n",
    "\n",
    "with open(\"test.txt\",\"r\") as fp:\n",
    "    lines = fp.readlines()\n",
    "    print(lines[3])\n",
    "\n"
   ]
  },
  {
   "cell_type": "code",
   "execution_count": null,
   "metadata": {},
   "outputs": [],
   "source": []
  }
 ],
 "metadata": {
  "kernelspec": {
   "display_name": "Python 3",
   "language": "python",
   "name": "python3"
  },
  "language_info": {
   "codemirror_mode": {
    "name": "ipython",
    "version": 3
   },
   "file_extension": ".py",
   "mimetype": "text/x-python",
   "name": "python",
   "nbconvert_exporter": "python",
   "pygments_lexer": "ipython3",
   "version": "3.8.5"
  }
 },
 "nbformat": 4,
 "nbformat_minor": 4
}
