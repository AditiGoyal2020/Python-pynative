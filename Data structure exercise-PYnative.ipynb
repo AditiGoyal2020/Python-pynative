{
 "cells": [
  {
   "cell_type": "markdown",
   "metadata": {},
   "source": [
    "# Data Structure"
   ]
  },
  {
   "cell_type": "code",
   "execution_count": 7,
   "metadata": {},
   "outputs": [
    {
     "name": "stdout",
     "output_type": "stream",
     "text": [
      "[3, 9, 15, 21]\n",
      "[4, 8]\n",
      "[3, 9, 15, 21, 4, 8]\n"
     ]
    }
   ],
   "source": [
    "#Given a two list. Create a third list by picking an odd-index element from the first list and even index elements from second.\n",
    "\n",
    "listOne = [3, 6, 9, 12, 15, 18, 21]\n",
    "listTwo = [4, 8, 12, 16, 20, 24, 28]\n",
    "listThree=list()\n",
    "\n",
    "oddelements=listOne[0::2]\n",
    "print(oddelements)\n",
    "\n",
    "evenelements=listTwo[0:2]\n",
    "print(evenelements)\n",
    "\n",
    "listThree.extend(oddelements)\n",
    "listThree.extend(evenelements)\n",
    "print(listThree)"
   ]
  },
  {
   "cell_type": "code",
   "execution_count": 23,
   "metadata": {},
   "outputs": [
    {
     "name": "stdout",
     "output_type": "stream",
     "text": [
      "[54, 44, 27, 79, 41]\n",
      "[54, 44, 91, 27, 79, 41]\n"
     ]
    }
   ],
   "source": [
    "# Given an input list removes the element at index 4 and add it to the 2nd position and also, at the end of the list\n",
    "List = [54, 44, 27, 79, 91, 41]\n",
    "element= List.pop(4)\n",
    "print(List)\n",
    "List.insert(2,element)\n",
    "print(List)"
   ]
  },
  {
   "cell_type": "code",
   "execution_count": 28,
   "metadata": {},
   "outputs": [
    {
     "name": "stdout",
     "output_type": "stream",
     "text": [
      "[11, 45, 8]\n",
      "[23, 14, 12]\n",
      "[78, 45, 89]\n"
     ]
    }
   ],
   "source": [
    "# Given a list slice it into a 3 equal chunks and\n",
    "# rever each list\n",
    "\n",
    "sampleList = [11, 45, 8, 23, 14, 12, 78, 45, 89]\n",
    "list1=sampleList[0:3]\n",
    "print(list1)\n",
    "list2=sampleList[3:6]\n",
    "print(list2)\n",
    "list3=sampleList[6:9]\n",
    "print(list3)"
   ]
  },
  {
   "cell_type": "code",
   "execution_count": 41,
   "metadata": {},
   "outputs": [
    {
     "ename": "IndentationError",
     "evalue": "expected an indented block (<ipython-input-41-232f125c5bbb>, line 11)",
     "output_type": "error",
     "traceback": [
      "\u001b[1;36m  File \u001b[1;32m\"<ipython-input-41-232f125c5bbb>\"\u001b[1;36m, line \u001b[1;32m11\u001b[0m\n\u001b[1;33m    countDict[item]=1\u001b[0m\n\u001b[1;37m    ^\u001b[0m\n\u001b[1;31mIndentationError\u001b[0m\u001b[1;31m:\u001b[0m expected an indented block\n"
     ]
    }
   ],
   "source": [
    "# Given a list iterate it and \n",
    "#count the occurrence of each element and \n",
    "#create a dictionary to show the count of each element\n",
    "\n",
    "Original_list = [11, 45, 8, 11, 23, 45, 23, 45, 89]\n",
    "print(\"Original list \", sampleList)\n",
    "countDict = dict()\n",
    "\n",
    "for item in sampleList:\n",
    "    if(item in countDict):\n",
    "    countDict[item]=1\n",
    "    \n",
    "print(\"Printing count of each item  \",countDict)"
   ]
  },
  {
   "cell_type": "code",
   "execution_count": 80,
   "metadata": {},
   "outputs": [
    {
     "name": "stdout",
     "output_type": "stream",
     "text": [
      "{(7, 49), (2, 4), (4, 16), (8, 64), (6, 36), (3, 9), (5, 25)}\n"
     ]
    }
   ],
   "source": [
    "# Given a two list of equal size create a set such that \n",
    "# it shows the element from both lists in the pair\n",
    "\n",
    "first_list = [2, 3, 4, 5, 6, 7, 8]\n",
    "\n",
    "second_list = [4, 9, 16, 25, 36, 49, 64]\n",
    "\n",
    "Result = zip(first_list,second_list)\n",
    "Result_Set= set(Result)\n",
    "print(Result_Set)"
   ]
  },
  {
   "cell_type": "code",
   "execution_count": 105,
   "metadata": {},
   "outputs": [
    {
     "name": "stdout",
     "output_type": "stream",
     "text": [
      "{57, 83, 29}\n",
      "{65, 42, 78, 23}\n"
     ]
    }
   ],
   "source": [
    "#Given a following two sets find the intersection and \n",
    "#remove those elements from the first set\n",
    "First_Set=  {65, 42, 78, 83, 23, 57, 29}\n",
    "Second_Set=  {67, 73, 43, 48, 83, 57, 29}\n",
    "Third_Set=First_Set.intersection(Second_Set)\n",
    "print(Third_Set)\n",
    "\n",
    "for i in Third_Set:\n",
    "    First_Set.remove(i)\n",
    "    \n",
    "\n",
    "print(First_Set)"
   ]
  },
  {
   "cell_type": "code",
   "execution_count": 114,
   "metadata": {},
   "outputs": [
    {
     "name": "stdout",
     "output_type": "stream",
     "text": [
      "set()\n",
      "{34, 43, 48, 53, 22, 27, 93}\n"
     ]
    }
   ],
   "source": [
    "#Given two sets, Checks if One Set is Subset or \n",
    "#superset of Another Set. \n",
    "#if the subset is found delete all elements from that set\n",
    "\n",
    "firstSet = {27, 43, 34}\n",
    "secondSet = {34, 93, 22, 27, 43, 53, 48}\n",
    "if (firstSet.issubset(secondSet)):\n",
    "    firstSet.clear()\n",
    "\n",
    "if secondSet.issubset(firstSet):\n",
    "    secondSet.clear()\n",
    "\n",
    "print(firstSet)\n",
    "print(secondSet)"
   ]
  },
  {
   "cell_type": "code",
   "execution_count": 176,
   "metadata": {},
   "outputs": [
    {
     "name": "stdout",
     "output_type": "stream",
     "text": [
      "dict_values([47, 69, 76, 97])\n",
      "[47, 69, 76, 97]\n"
     ]
    }
   ],
   "source": [
    "#Iterate a given list and Check \n",
    "#if a given element already exists in a dictionary as a key’s value \n",
    "#if not delete it from the list\n",
    "\n",
    "rollNumber = [47, 64, 69, 37, 76, 83, 95, 97]\n",
    "sampleDict ={'Jhon':47, 'Emma':69, 'Kelly':76, 'Jason':97}\n",
    "\n",
    "\n",
    "List1= sampleDict.values()\n",
    "print(List1)\n",
    "New_list= [i for i in rollNumber if i in List1]\n",
    "\n",
    "print(New_list)\n",
    "    \n",
    "\n"
   ]
  },
  {
   "cell_type": "code",
   "execution_count": 187,
   "metadata": {},
   "outputs": [
    {
     "name": "stdout",
     "output_type": "stream",
     "text": [
      "dict_values([47, 52, 47, 44, 52, 53, 54, 44, 54])\n",
      "[47, 52, 44, 53, 54]\n"
     ]
    }
   ],
   "source": [
    "#Given a dictionary get all values from the dictionary and \n",
    "#add it in a list but don’t add duplicates\n",
    "speed ={'jan':47, 'feb':52, 'march':47, 'April':44, 'May':52, 'June':53, 'july':54, 'Aug':44, 'Sept':54}\n",
    "\n",
    "speed1=speed.values()\n",
    "print(speed1)\n",
    "speedlist=list()\n",
    "for i in speed1:\n",
    "    if i not in speedlist:\n",
    "        speedlist.append(i)\n",
    "print(speedlist)"
   ]
  },
  {
   "cell_type": "code",
   "execution_count": 194,
   "metadata": {},
   "outputs": [
    {
     "name": "stdout",
     "output_type": "stream",
     "text": [
      "[87, 45, 41, 65, 94, 99]\n"
     ]
    },
    {
     "data": {
      "text/plain": [
       "99"
      ]
     },
     "execution_count": 194,
     "metadata": {},
     "output_type": "execute_result"
    }
   ],
   "source": [
    "# Remove duplicate from a list and \n",
    "#create a tuple and find the minimum and\n",
    "# maximum number\n",
    "\n",
    "sampleList = [87, 45, 41, 65, 94, 41, 99, 94]\n",
    "\n",
    "List1= list()\n",
    "for i in sampleList:\n",
    "    if i not in List1:\n",
    "        List1.append(i)\n",
    "        \n",
    "print(List1)\n",
    "min(List1)\n",
    "max(List1)"
   ]
  },
  {
   "cell_type": "code",
   "execution_count": null,
   "metadata": {},
   "outputs": [],
   "source": []
  }
 ],
 "metadata": {
  "kernelspec": {
   "display_name": "Python 3",
   "language": "python",
   "name": "python3"
  },
  "language_info": {
   "codemirror_mode": {
    "name": "ipython",
    "version": 3
   },
   "file_extension": ".py",
   "mimetype": "text/x-python",
   "name": "python",
   "nbconvert_exporter": "python",
   "pygments_lexer": "ipython3",
   "version": "3.8.5"
  }
 },
 "nbformat": 4,
 "nbformat_minor": 4
}
